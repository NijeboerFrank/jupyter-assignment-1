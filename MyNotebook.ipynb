{
 "cells": [
  {
   "cell_type": "markdown",
   "metadata": {},
   "source": [
    "# An Analysis on a GreyMarket on the Dark Web\n",
    "    Loek van der Gugten 1975331\n",
    "    Reinier de Ridder   1701134\n",
    "    Frank Nijeboer      2011972"
   ]
  },
  {
   "cell_type": "markdown",
   "metadata": {},
   "source": [
    "## Motivation and Goals\n",
    "This document contains an analysis of items that are listed on a black market website. The black market website that has been analyzed is called ‘Grey Market’ according to the website ‘Darknet Markets Links’. On ‘Grey Market’ you can find a wide variety of items, ranging from drugs to accounts on online services, from software applications to bank accounts, etc.\n",
    "\n",
    "There are multiple goals for performing this analysis, the first being understanding how the black market works. The idea is that by scrolling through items on a black market we can get an overview of what kind of items are listed and how much information about the item and/or seller is provided per item. The second goal is to form an opinion about the legality of the items we find\n"
   ]
  },
  {
   "cell_type": "markdown",
   "metadata": {},
   "source": [
    "## Methodology\n"
   ]
  },
  {
   "cell_type": "code",
   "execution_count": 1,
   "metadata": {},
   "outputs": [
    {
     "data": {
      "text/html": [
       "<div>\n",
       "<style scoped>\n",
       "    .dataframe tbody tr th:only-of-type {\n",
       "        vertical-align: middle;\n",
       "    }\n",
       "\n",
       "    .dataframe tbody tr th {\n",
       "        vertical-align: top;\n",
       "    }\n",
       "\n",
       "    .dataframe thead th {\n",
       "        text-align: right;\n",
       "    }\n",
       "</style>\n",
       "<table border=\"1\" class=\"dataframe\">\n",
       "  <thead>\n",
       "    <tr style=\"text-align: right;\">\n",
       "      <th></th>\n",
       "      <th>Name</th>\n",
       "      <th>Item</th>\n",
       "      <th>Quantity</th>\n",
       "      <th>$/Quantity</th>\n",
       "      <th>Seller</th>\n",
       "      <th>Shipping from</th>\n",
       "      <th>Shipping to</th>\n",
       "      <th>Legal</th>\n",
       "      <th>Category</th>\n",
       "      <th>In Stock</th>\n",
       "    </tr>\n",
       "  </thead>\n",
       "  <tbody>\n",
       "    <tr>\n",
       "      <td>0</td>\n",
       "      <td>Amazon Carding Tutorial</td>\n",
       "      <td>eBook</td>\n",
       "      <td>1</td>\n",
       "      <td>5</td>\n",
       "      <td>topnotchdrugz</td>\n",
       "      <td>Worldwide</td>\n",
       "      <td>Worldwide</td>\n",
       "      <td>Yes?</td>\n",
       "      <td>Information/eBook</td>\n",
       "      <td>498.0</td>\n",
       "    </tr>\n",
       "    <tr>\n",
       "      <td>1</td>\n",
       "      <td>12 Ways To Rob A ATM Machine</td>\n",
       "      <td>eBook</td>\n",
       "      <td>1</td>\n",
       "      <td>3</td>\n",
       "      <td>topnotchdrugz</td>\n",
       "      <td>Worldwide</td>\n",
       "      <td>Worldwide</td>\n",
       "      <td>Yes?</td>\n",
       "      <td>Information/eBook</td>\n",
       "      <td>99.0</td>\n",
       "    </tr>\n",
       "    <tr>\n",
       "      <td>2</td>\n",
       "      <td>How to use socks 5</td>\n",
       "      <td>files</td>\n",
       "      <td>1</td>\n",
       "      <td>1</td>\n",
       "      <td>Hackyboy</td>\n",
       "      <td>Worldwide</td>\n",
       "      <td>Worldwide</td>\n",
       "      <td>Yes?</td>\n",
       "      <td>Information/Guides</td>\n",
       "      <td>999.0</td>\n",
       "    </tr>\n",
       "    <tr>\n",
       "      <td>3</td>\n",
       "      <td>Hdvpass.com Porn Premium Account Plus Warranty</td>\n",
       "      <td>accounts</td>\n",
       "      <td>1</td>\n",
       "      <td>3</td>\n",
       "      <td>enjoymyaccounts</td>\n",
       "      <td>Worldwide</td>\n",
       "      <td>Worldwide</td>\n",
       "      <td>No</td>\n",
       "      <td>Information/other</td>\n",
       "      <td>998.0</td>\n",
       "    </tr>\n",
       "    <tr>\n",
       "      <td>4</td>\n",
       "      <td>NORD VPN 6 Months Subscription + WARRANTY</td>\n",
       "      <td>accounts</td>\n",
       "      <td>1</td>\n",
       "      <td>3.2</td>\n",
       "      <td>pornseller</td>\n",
       "      <td>Worldwide</td>\n",
       "      <td>Worldwide</td>\n",
       "      <td>No</td>\n",
       "      <td>Information/other</td>\n",
       "      <td>999.0</td>\n",
       "    </tr>\n",
       "  </tbody>\n",
       "</table>\n",
       "</div>"
      ],
      "text/plain": [
       "                                             Name      Item  Quantity  \\\n",
       "0                         Amazon Carding Tutorial     eBook         1   \n",
       "1                    12 Ways To Rob A ATM Machine     eBook         1   \n",
       "2                              How to use socks 5     files         1   \n",
       "3  Hdvpass.com Porn Premium Account Plus Warranty  accounts         1   \n",
       "4       NORD VPN 6 Months Subscription + WARRANTY  accounts         1   \n",
       "\n",
       "  $/Quantity           Seller Shipping from Shipping to Legal  \\\n",
       "0          5    topnotchdrugz     Worldwide   Worldwide  Yes?   \n",
       "1          3    topnotchdrugz     Worldwide   Worldwide  Yes?   \n",
       "2          1         Hackyboy     Worldwide   Worldwide  Yes?   \n",
       "3          3  enjoymyaccounts     Worldwide   Worldwide    No   \n",
       "4        3.2       pornseller     Worldwide   Worldwide    No   \n",
       "\n",
       "             Category  In Stock  \n",
       "0   Information/eBook     498.0  \n",
       "1   Information/eBook      99.0  \n",
       "2  Information/Guides     999.0  \n",
       "3   Information/other     998.0  \n",
       "4   Information/other     999.0  "
      ]
     },
     "execution_count": 1,
     "metadata": {},
     "output_type": "execute_result"
    }
   ],
   "source": [
    "from read_csv import df\n",
    "df.head(5)"
   ]
  },
  {
   "cell_type": "code",
   "execution_count": 2,
   "metadata": {},
   "outputs": [],
   "source": [
    "%matplotlib inline\n",
    "import matplotlib.pyplot as plt"
   ]
  },
  {
   "cell_type": "markdown",
   "metadata": {},
   "source": [
    "# Sellers\n",
    "In all of our rows we also included the seller.\n",
    "Blablabla #TODO Reinier"
   ]
  },
  {
   "cell_type": "code",
   "execution_count": 3,
   "metadata": {},
   "outputs": [
    {
     "data": {
      "image/png": "[encoded data removed]",
      "text/plain": [
       "<Figure size 432x288 with 1 Axes>"
      ]
     },
     "metadata": {
      "needs_background": "light"
     },
     "output_type": "display_data"
    }
   ],
   "source": [
    "sellers_by_frequency = df[\"Seller\"].value_counts()\n",
    "sellers_by_frequency.sort_values().plot(kind='barh')\n",
    "plt.title('Sellers by frequency')\n",
    "plt.ylabel('Seller')\n",
    "plt.xlabel('Frequency')\n",
    "plt.show()"
   ]
  },
  {
   "cell_type": "markdown",
   "metadata": {},
   "source": [
    "## Legality\n",
    "The amount of legal advertisements were also included in our search on the grey market."
   ]
  },
  {
   "cell_type": "code",
   "execution_count": 4,
   "metadata": {},
   "outputs": [
    {
     "data": {
      "image/png": "[encoded data removed]",
      "text/plain": [
       "<Figure size 432x288 with 1 Axes>"
      ]
     },
     "metadata": {},
     "output_type": "display_data"
    }
   ],
   "source": [
    "legal_amount = df[\"Legal\"].value_counts()\n",
    "legal_amount.plot.pie(autopct='%1.1f%%')\n",
    "plt.title('Amount of Legal advertisements')\n",
    "plt.ylabel('')\n",
    "plt.show()"
   ]
  },
  {
   "cell_type": "markdown",
   "metadata": {},
   "source": [
    "This "
   ]
  },
  {
   "cell_type": "code",
   "execution_count": 9,
   "metadata": {},
   "outputs": [
    {
     "data": {
      "image/png": "[encoded data removed]",
      "text/plain": [
       "<Figure size 432x288 with 1 Axes>"
      ]
     },
     "metadata": {
      "needs_background": "light"
     },
     "output_type": "display_data"
    }
   ],
   "source": [
    "grouped_cats = df.groupby(['Category', 'Legal']).size().unstack()\n",
    "grouped_cats.plot.bar(y = ['No', 'Yes?', 'Yes'])\n",
    "plt.show()"
   ]
  },
  {
   "cell_type": "code",
   "execution_count": null,
   "metadata": {},
   "outputs": [],
   "source": []
  }
 ],
 "metadata": {
  "kernelspec": {
   "display_name": "Python 3",
   "language": "python",
   "name": "python3"
  },
  "language_info": {
   "codemirror_mode": {
    "name": "ipython",
    "version": 3
   },
   "file_extension": ".py",
   "mimetype": "text/x-python",
   "name": "python",
   "nbconvert_exporter": "python",
   "pygments_lexer": "ipython3",
   "version": "3.7.3"
  }
 },
 "nbformat": 4,
 "nbformat_minor": 2
}
